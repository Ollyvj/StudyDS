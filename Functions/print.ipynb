{
 "cells": [
  {
   "cell_type": "markdown",
   "id": "24ee02d0",
   "metadata": {},
   "source": [
    "# <center> Полный синтаксис функции print()"
   ]
  },
  {
   "cell_type": "markdown",
   "id": "9c49bf3f",
   "metadata": {},
   "source": [
    "```python\n",
    "print(*objects, sep=' ', end='\\n', file=sys.stdout, flush=False)\n",
    "```"
   ]
  },
  {
   "cell_type": "markdown",
   "id": "e5bc8c74",
   "metadata": {},
   "source": [
    "Параметры print()\n",
    "- **objects** – объект, который нужно вывести * обозначает, что объектов может быть несколько;\n",
    "- **sep** – разделяет объекты. Значение по умолчанию: ' ' (пробел);\n",
    "- **end** – ставится после всех объектов, где:\n",
    "| Символ  | Описание  | \n",
    "|:------------- |:---------------| \n",
    "|\\n|\t(newline) перевод каретки на следующую строку|\n",
    "|\\r|\t(return) перевод каретки на в начало текущей строки|\n",
    "|\\t|\t(tab) табуляция (отступ, красная строка)|\n",
    "|\\b|\t(backspace) перевод каретки на один символ назад|\n",
    "\n",
    "\n",
    "- **file** – ожидается объект с методом write (string). Если значение не задано, для вывода объектов используется файл sys.stdout;\n",
    "- **flush** – если задано значение True, поток принудительно сбрасывается в файл. Значение по умолчанию: False.\n",
    "\n",
    "\n",
    ">Примечание: sep, end, file и flush — это аргументы-ключевые слова. Если хотите воспользоваться аргументом sep, используйте:"
   ]
  },
  {
   "cell_type": "code",
   "execution_count": 17,
   "id": "c8d0e60f",
   "metadata": {},
   "outputs": [],
   "source": [
    "sourceFile = open('python.txt', 'w')\n",
    "print(\"Круто же, правда?\", file = sourceFile)\n",
    "sourceFile.close()"
   ]
  }
 ],
 "metadata": {
  "kernelspec": {
   "display_name": "Python 3 (ipykernel)",
   "language": "python",
   "name": "python3"
  },
  "language_info": {
   "codemirror_mode": {
    "name": "ipython",
    "version": 3
   },
   "file_extension": ".py",
   "mimetype": "text/x-python",
   "name": "python",
   "nbconvert_exporter": "python",
   "pygments_lexer": "ipython3",
   "version": "3.9.7"
  },
  "varInspector": {
   "cols": {
    "lenName": 16,
    "lenType": 16,
    "lenVar": 40
   },
   "kernels_config": {
    "python": {
     "delete_cmd_postfix": "",
     "delete_cmd_prefix": "del ",
     "library": "var_list.py",
     "varRefreshCmd": "print(var_dic_list())"
    },
    "r": {
     "delete_cmd_postfix": ") ",
     "delete_cmd_prefix": "rm(",
     "library": "var_list.r",
     "varRefreshCmd": "cat(var_dic_list()) "
    }
   },
   "types_to_exclude": [
    "module",
    "function",
    "builtin_function_or_method",
    "instance",
    "_Feature"
   ],
   "window_display": false
  }
 },
 "nbformat": 4,
 "nbformat_minor": 5
}
