{
 "cells": [
  {
   "cell_type": "markdown",
   "id": "0ecbdffb",
   "metadata": {},
   "source": [
    "# <center> Ввод данных с клавиатуры"
   ]
  },
  {
   "cell_type": "markdown",
   "id": "d78991ef",
   "metadata": {},
   "source": [
    "Для ввода данных с клавиатуры существует встроенная функция input().\n",
    "\n",
    "При использовании функции input() появляется окно для ввода, после заполнения которого пользователю необходимо нажать Enter. \n",
    "\n",
    "Аргумент этой функции можно оставить пустым, а можно добавить в него сопроводительную фразу (в кавычках), что именно должен ввести пользователь.\n",
    "\n",
    "Если не присваивать введённые пользователем данные никакой переменной, то они просто выведутся на экране, а если присвоить, сохранятся под именем переменной, но не выведутся на экран.\n",
    "\n",
    "В этом случае необходимо отдельно вызвать переменную."
   ]
  },
  {
   "cell_type": "code",
   "execution_count": 1,
   "id": "4348759b",
   "metadata": {},
   "outputs": [
    {
     "name": "stdout",
     "output_type": "stream",
     "text": [
      "Напишите что-нибудь хорошее: Привет\n"
     ]
    },
    {
     "data": {
      "text/plain": [
       "'Привет'"
      ]
     },
     "execution_count": 1,
     "metadata": {},
     "output_type": "execute_result"
    }
   ],
   "source": [
    "input ('Напишите что-нибудь хорошее: ')\n"
   ]
  },
  {
   "cell_type": "code",
   "execution_count": 2,
   "id": "5dc0736b",
   "metadata": {},
   "outputs": [
    {
     "name": "stdout",
     "output_type": "stream",
     "text": [
      "Напишите что-нибудь хорошее: Привет\n"
     ]
    }
   ],
   "source": [
    "phrase = input ('Напишите что-нибудь хорошее: ')"
   ]
  }
 ],
 "metadata": {
  "kernelspec": {
   "display_name": "Python 3 (ipykernel)",
   "language": "python",
   "name": "python3"
  },
  "language_info": {
   "codemirror_mode": {
    "name": "ipython",
    "version": 3
   },
   "file_extension": ".py",
   "mimetype": "text/x-python",
   "name": "python",
   "nbconvert_exporter": "python",
   "pygments_lexer": "ipython3",
   "version": "3.9.7"
  },
  "varInspector": {
   "cols": {
    "lenName": 16,
    "lenType": 16,
    "lenVar": 40
   },
   "kernels_config": {
    "python": {
     "delete_cmd_postfix": "",
     "delete_cmd_prefix": "del ",
     "library": "var_list.py",
     "varRefreshCmd": "print(var_dic_list())"
    },
    "r": {
     "delete_cmd_postfix": ") ",
     "delete_cmd_prefix": "rm(",
     "library": "var_list.r",
     "varRefreshCmd": "cat(var_dic_list()) "
    }
   },
   "types_to_exclude": [
    "module",
    "function",
    "builtin_function_or_method",
    "instance",
    "_Feature"
   ],
   "window_display": false
  }
 },
 "nbformat": 4,
 "nbformat_minor": 5
}
